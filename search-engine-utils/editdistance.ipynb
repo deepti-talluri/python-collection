{
 "cells": [
  {
   "cell_type": "code",
   "execution_count": 3,
   "metadata": {},
   "outputs": [],
   "source": [
    "def main():\n",
    "    print(\"Enter two strings\")\n",
    "    x=input()\n",
    "    print(\"second\")\n",
    "    y=input()\n",
    "    print(\"The edit distance is : \"+str(dist(x,len(x),y,len(y))))"
   ]
  },
  {
   "cell_type": "code",
   "execution_count": 4,
   "metadata": {},
   "outputs": [],
   "source": [
    "def minimum(a,b,c):\n",
    "    return int(min(a,b,c))"
   ]
  },
  {
   "cell_type": "code",
   "execution_count": 5,
   "metadata": {},
   "outputs": [],
   "source": [
    "def dist(X,m,Y,n):\n",
    "       \n",
    "    if m==0:\n",
    "        return n\n",
    "    if n==0: \n",
    "        return m\n",
    "    if X[m-1]==Y[n-1]:\n",
    "        cost = 0\n",
    "    else:\n",
    "        cost = 1 \n",
    "    return minimum(dist(X, m - 1, Y, n) + 1,  \n",
    "                dist(X, m, Y, n - 1) + 1,         \n",
    "                dist(X, m - 1, Y, n - 1) + cost) \n",
    "  \n",
    "    "
   ]
  },
  {
   "cell_type": "code",
   "execution_count": 6,
   "metadata": {},
   "outputs": [
    {
     "name": "stdout",
     "output_type": "stream",
     "text": [
      "Enter two strings\n",
      "hai\n",
      "second\n",
      "hei\n",
      "The edit distance is : 1\n"
     ]
    }
   ],
   "source": [
    "main()"
   ]
  },
  {
   "cell_type": "code",
   "execution_count": null,
   "metadata": {},
   "outputs": [],
   "source": []
  },
  {
   "cell_type": "code",
   "execution_count": null,
   "metadata": {},
   "outputs": [],
   "source": []
  },
  {
   "cell_type": "code",
   "execution_count": null,
   "metadata": {},
   "outputs": [],
   "source": []
  }
 ],
 "metadata": {
  "kernelspec": {
   "display_name": "Python 3",
   "language": "python",
   "name": "python3"
  },
  "language_info": {
   "codemirror_mode": {
    "name": "ipython",
    "version": 3
   },
   "file_extension": ".py",
   "mimetype": "text/x-python",
   "name": "python",
   "nbconvert_exporter": "python",
   "pygments_lexer": "ipython3",
   "version": "3.7.3"
  }
 },
 "nbformat": 4,
 "nbformat_minor": 2
}
