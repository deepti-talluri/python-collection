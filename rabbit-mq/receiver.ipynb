{
 "cells": [
  {
   "cell_type": "code",
   "execution_count": null,
   "metadata": {},
   "outputs": [
    {
     "name": "stdout",
     "output_type": "stream",
     "text": [
      " [*] Waiting for messages. To exit press CTRL+C\n",
      " [x] Received b'Hello World!'\n",
      " [x] Received b'Hello World!'\n",
      " [x] Received b'Hello World!'\n",
      " [x] Received b'Hello World!'\n",
      " [x] Received b'Hello World!'\n",
      " [x] Received b'Hello World!'\n",
      " [x] Received b'Hello World!'\n",
      " [x] Received b'Hello World!'\n",
      " [x] Received b'Hello World!'\n",
      " [x] Received b'Hello World!'\n",
      " [x] Received b'Hello World!'\n",
      " [x] Received b'Hello World!'\n",
      " [x] Received b'1 This deepthi'\n",
      " [x] Received b'2 This deepthi'\n",
      " [x] Received b'3 This deepthi'\n",
      " [x] Received b'4 This deepthi'\n",
      " [x] Received b'5 This deepthi'\n",
      " [x] Received b'6 This deepthi'\n"
     ]
    }
   ],
   "source": [
    "import pika\n",
    "\n",
    "connection = pika.BlockingConnection(\n",
    "    pika.ConnectionParameters(host='localhost'))\n",
    "channel = connection.channel()\n",
    "\n",
    "channel.queue_declare(queue='hello')\n",
    "\n",
    "\n",
    "def callback(ch, method, properties, body):\n",
    "    print(\" [x] Received %r\" % body)\n",
    "\n",
    "\n",
    "    \n",
    "channel.basic_consume(\n",
    "    queue='hello', on_message_callback=callback, auto_ack=True)\n",
    "\n",
    "print(' [*] Waiting for messages. To exit press CTRL+C')\n",
    "channel.start_consuming()"
   ]
  },
  {
   "cell_type": "code",
   "execution_count": null,
   "metadata": {},
   "outputs": [],
   "source": []
  }
 ],
 "metadata": {
  "kernelspec": {
   "display_name": "Python 3",
   "language": "python",
   "name": "python3"
  },
  "language_info": {
   "codemirror_mode": {
    "name": "ipython",
    "version": 3
   },
   "file_extension": ".py",
   "mimetype": "text/x-python",
   "name": "python",
   "nbconvert_exporter": "python",
   "pygments_lexer": "ipython3",
   "version": "3.7.4"
  }
 },
 "nbformat": 4,
 "nbformat_minor": 2
}
